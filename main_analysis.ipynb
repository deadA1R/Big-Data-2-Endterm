{
 "cells": [
  {
   "cell_type": "code",
   "execution_count": 1,
   "metadata": {},
   "outputs": [
    {
     "name": "stdout",
     "output_type": "stream",
     "text": [
      "   ARREST_KEY             ARREST_DATE  PD_CD  \\\n",
      "0   184630128  06/30/2018 12:00:00 AM  244.0   \n",
      "1   184612066  06/30/2018 12:00:00 AM  969.0   \n",
      "2   184611183  06/30/2018 12:00:00 AM  244.0   \n",
      "3   184614200  06/30/2018 12:00:00 AM  198.0   \n",
      "4   184616006  06/30/2018 12:00:00 AM  849.0   \n",
      "\n",
      "                                PD_DESC  KY_CD                 OFNS_DESC  \\\n",
      "0    BURGLARY,UNCLASSIFIED,UNKNOWN TIME  107.0                  BURGLARY   \n",
      "1       TRAFFIC,UNCLASSIFIED INFRACTION  881.0  OTHER TRAFFIC INFRACTION   \n",
      "2    BURGLARY,UNCLASSIFIED,UNKNOWN TIME  107.0                  BURGLARY   \n",
      "3                   CRIMINAL CONTEMPT 1  126.0   MISCELLANEOUS PENAL LAW   \n",
      "4  NY STATE LAWS,UNCLASSIFIED VIOLATION  677.0          OTHER STATE LAWS   \n",
      "\n",
      "     LAW_CODE LAW_CAT_CD ARREST_BORO  ARREST_PRECINCT  JURISDICTION_CODE  \\\n",
      "0  PL 1402000          F          K                66                  0   \n",
      "1  VTL051101A          V          Q               103                  0   \n",
      "2  PL 1402000          F          M                 6                  0   \n",
      "3  PL 21551B5          F          K                90                  2   \n",
      "4  LOC000000V          V          K                67                  0   \n",
      "\n",
      "  AGE_GROUP PERP_SEX                 PERP_RACE  X_COORD_CD  Y_COORD_CD  \\\n",
      "0     25-44        M                     WHITE      986760      171042   \n",
      "1     45-64        M  ASIAN / PACIFIC ISLANDER     1043105      197168   \n",
      "2     25-44        M            WHITE HISPANIC      983190      208988   \n",
      "3     25-44        M                     BLACK      993850      195755   \n",
      "4     25-44        M            WHITE HISPANIC     1003396      178812   \n",
      "\n",
      "    Latitude  Longitude  \n",
      "0  40.636155 -73.990958  \n",
      "1  40.707670 -73.787719  \n",
      "2  40.740309 -74.003827  \n",
      "3  40.703982 -73.965377  \n",
      "4  40.657462 -73.930996  \n"
     ]
    }
   ],
   "source": [
    "import pandas as pd\n",
    "\n",
    "# Upload dataset\n",
    "data_frame = pd.read_csv('nypd-arrest-data-year-to-date-1.csv')\n",
    "\n",
    "# Initial familiarization with the data\n",
    "print(data_frame.head())\n",
    "\n"
   ]
  },
  {
   "cell_type": "code",
   "execution_count": 2,
   "metadata": {},
   "outputs": [
    {
     "name": "stdout",
     "output_type": "stream",
     "text": [
      "<class 'pandas.core.frame.DataFrame'>\n",
      "RangeIndex: 131043 entries, 0 to 131042\n",
      "Data columns (total 18 columns):\n",
      " #   Column             Non-Null Count   Dtype  \n",
      "---  ------             --------------   -----  \n",
      " 0   ARREST_KEY         131043 non-null  int64  \n",
      " 1   ARREST_DATE        131043 non-null  object \n",
      " 2   PD_CD              131020 non-null  float64\n",
      " 3   PD_DESC            130597 non-null  object \n",
      " 4   KY_CD              131020 non-null  float64\n",
      " 5   OFNS_DESC          131020 non-null  object \n",
      " 6   LAW_CODE           131043 non-null  object \n",
      " 7   LAW_CAT_CD         131019 non-null  object \n",
      " 8   ARREST_BORO        131043 non-null  object \n",
      " 9   ARREST_PRECINCT    131043 non-null  int64  \n",
      " 10  JURISDICTION_CODE  131043 non-null  int64  \n",
      " 11  AGE_GROUP          131043 non-null  object \n",
      " 12  PERP_SEX           131043 non-null  object \n",
      " 13  PERP_RACE          131043 non-null  object \n",
      " 14  X_COORD_CD         131043 non-null  int64  \n",
      " 15  Y_COORD_CD         131043 non-null  int64  \n",
      " 16  Latitude           131043 non-null  float64\n",
      " 17  Longitude          131043 non-null  float64\n",
      "dtypes: float64(4), int64(5), object(9)\n",
      "memory usage: 18.0+ MB\n",
      "None\n"
     ]
    }
   ],
   "source": [
    "print(data_frame.info())\n"
   ]
  }
 ],
 "metadata": {
  "kernelspec": {
   "display_name": "Python 3",
   "language": "python",
   "name": "python3"
  },
  "language_info": {
   "codemirror_mode": {
    "name": "ipython",
    "version": 3
   },
   "file_extension": ".py",
   "mimetype": "text/x-python",
   "name": "python",
   "nbconvert_exporter": "python",
   "pygments_lexer": "ipython3",
   "version": "3.11.5"
  }
 },
 "nbformat": 4,
 "nbformat_minor": 2
}
