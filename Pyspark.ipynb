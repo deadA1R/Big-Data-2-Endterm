{
  "nbformat": 4,
  "nbformat_minor": 0,
  "metadata": {
    "colab": {
      "provenance": []
    },
    "kernelspec": {
      "name": "python3",
      "display_name": "Python 3"
    },
    "language_info": {
      "name": "python"
    }
  },
  "cells": [
    {
      "cell_type": "code",
      "execution_count": 20,
      "metadata": {
        "colab": {
          "base_uri": "https://localhost:8080/"
        },
        "id": "K7NhsO4vARR5",
        "outputId": "0403a7d7-6982-466a-8751-f6e74ad8af73"
      },
      "outputs": [
        {
          "output_type": "execute_result",
          "data": {
            "text/plain": [
              "131043"
            ]
          },
          "metadata": {},
          "execution_count": 20
        }
      ],
      "source": [
        "import sqlite3\n",
        "import pandas as pd\n",
        "\n",
        "# Connecting to the database\n",
        "conn = sqlite3.connect('nyc_law_enforcement.db')\n",
        "%sql sqlite:///nyc_law_enforcement.db\n",
        "\n",
        "df = pd.read_csv('https://query.data.world/s/vstt5qw6bshml2cxnpssm4awkjnpth?dws=00000')\n",
        "df.to_sql(\"law_enforcement\", conn)"
      ]
    },
    {
      "cell_type": "code",
      "source": [
        "%sql SELECT * FROM law_enforcement limit 5"
      ],
      "metadata": {
        "colab": {
          "base_uri": "https://localhost:8080/",
          "height": 303
        },
        "id": "_QznePHyG104",
        "outputId": "c12b364e-1315-4135-e122-f53175320455"
      },
      "execution_count": 21,
      "outputs": [
        {
          "output_type": "stream",
          "name": "stdout",
          "text": [
            " * sqlite:///nyc_law_enforcement.db\n",
            "Done.\n"
          ]
        },
        {
          "output_type": "execute_result",
          "data": {
            "text/plain": [
              "[(0, 184630128, '06/30/2018 12:00:00 AM', 244.0, 'BURGLARY,UNCLASSIFIED,UNKNOWN TIME', 107.0, 'BURGLARY', 'PL 1402000', 'F', 'K ', 66, 0, '25-44', 'M', 'WHITE', 986760, 171042, 40.636155209, -73.990957907),\n",
              " (1, 184612066, '06/30/2018 12:00:00 AM', 969.0, 'TRAFFIC,UNCLASSIFIED INFRACTION', 881.0, 'OTHER TRAFFIC INFRACTION', 'VTL051101A', 'V', 'Q ', 103, 0, '45-64', 'M', 'ASIAN / PACIFIC ISLANDER', 1043105, 197168, 40.707669854, -73.787719041),\n",
              " (2, 184611183, '06/30/2018 12:00:00 AM', 244.0, 'BURGLARY,UNCLASSIFIED,UNKNOWN TIME', 107.0, 'BURGLARY', 'PL 1402000', 'F', 'M ', 6, 0, '25-44', 'M', 'WHITE HISPANIC', 983190, 208988, 40.740308565, -74.0038266),\n",
              " (3, 184614200, '06/30/2018 12:00:00 AM', 198.0, 'CRIMINAL CONTEMPT 1', 126.0, 'MISCELLANEOUS PENAL LAW', 'PL 21551B5', 'F', 'K ', 90, 2, '25-44', 'M', 'BLACK', 993850, 195755, 40.703982028, -73.96537743),\n",
              " (4, 184616006, '06/30/2018 12:00:00 AM', 849.0, 'NY STATE LAWS,UNCLASSIFIED VIOLATION', 677.0, 'OTHER STATE LAWS', 'LOC000000V', 'V', 'K ', 67, 0, '25-44', 'M', 'WHITE HISPANIC', 1003396, 178812, 40.657461842, -73.930996321)]"
            ],
            "text/html": [
              "<table>\n",
              "    <thead>\n",
              "        <tr>\n",
              "            <th>index</th>\n",
              "            <th>ARREST_KEY</th>\n",
              "            <th>ARREST_DATE</th>\n",
              "            <th>PD_CD</th>\n",
              "            <th>PD_DESC</th>\n",
              "            <th>KY_CD</th>\n",
              "            <th>OFNS_DESC</th>\n",
              "            <th>LAW_CODE</th>\n",
              "            <th>LAW_CAT_CD</th>\n",
              "            <th>ARREST_BORO</th>\n",
              "            <th>ARREST_PRECINCT</th>\n",
              "            <th>JURISDICTION_CODE</th>\n",
              "            <th>AGE_GROUP</th>\n",
              "            <th>PERP_SEX</th>\n",
              "            <th>PERP_RACE</th>\n",
              "            <th>X_COORD_CD</th>\n",
              "            <th>Y_COORD_CD</th>\n",
              "            <th>Latitude</th>\n",
              "            <th>Longitude</th>\n",
              "        </tr>\n",
              "    </thead>\n",
              "    <tbody>\n",
              "        <tr>\n",
              "            <td>0</td>\n",
              "            <td>184630128</td>\n",
              "            <td>06/30/2018 12:00:00 AM</td>\n",
              "            <td>244.0</td>\n",
              "            <td>BURGLARY,UNCLASSIFIED,UNKNOWN TIME</td>\n",
              "            <td>107.0</td>\n",
              "            <td>BURGLARY</td>\n",
              "            <td>PL 1402000</td>\n",
              "            <td>F</td>\n",
              "            <td>K </td>\n",
              "            <td>66</td>\n",
              "            <td>0</td>\n",
              "            <td>25-44</td>\n",
              "            <td>M</td>\n",
              "            <td>WHITE</td>\n",
              "            <td>986760</td>\n",
              "            <td>171042</td>\n",
              "            <td>40.636155209</td>\n",
              "            <td>-73.990957907</td>\n",
              "        </tr>\n",
              "        <tr>\n",
              "            <td>1</td>\n",
              "            <td>184612066</td>\n",
              "            <td>06/30/2018 12:00:00 AM</td>\n",
              "            <td>969.0</td>\n",
              "            <td>TRAFFIC,UNCLASSIFIED INFRACTION</td>\n",
              "            <td>881.0</td>\n",
              "            <td>OTHER TRAFFIC INFRACTION</td>\n",
              "            <td>VTL051101A</td>\n",
              "            <td>V</td>\n",
              "            <td>Q </td>\n",
              "            <td>103</td>\n",
              "            <td>0</td>\n",
              "            <td>45-64</td>\n",
              "            <td>M</td>\n",
              "            <td>ASIAN / PACIFIC ISLANDER</td>\n",
              "            <td>1043105</td>\n",
              "            <td>197168</td>\n",
              "            <td>40.707669854</td>\n",
              "            <td>-73.787719041</td>\n",
              "        </tr>\n",
              "        <tr>\n",
              "            <td>2</td>\n",
              "            <td>184611183</td>\n",
              "            <td>06/30/2018 12:00:00 AM</td>\n",
              "            <td>244.0</td>\n",
              "            <td>BURGLARY,UNCLASSIFIED,UNKNOWN TIME</td>\n",
              "            <td>107.0</td>\n",
              "            <td>BURGLARY</td>\n",
              "            <td>PL 1402000</td>\n",
              "            <td>F</td>\n",
              "            <td>M </td>\n",
              "            <td>6</td>\n",
              "            <td>0</td>\n",
              "            <td>25-44</td>\n",
              "            <td>M</td>\n",
              "            <td>WHITE HISPANIC</td>\n",
              "            <td>983190</td>\n",
              "            <td>208988</td>\n",
              "            <td>40.740308565</td>\n",
              "            <td>-74.0038266</td>\n",
              "        </tr>\n",
              "        <tr>\n",
              "            <td>3</td>\n",
              "            <td>184614200</td>\n",
              "            <td>06/30/2018 12:00:00 AM</td>\n",
              "            <td>198.0</td>\n",
              "            <td>CRIMINAL CONTEMPT 1</td>\n",
              "            <td>126.0</td>\n",
              "            <td>MISCELLANEOUS PENAL LAW</td>\n",
              "            <td>PL 21551B5</td>\n",
              "            <td>F</td>\n",
              "            <td>K </td>\n",
              "            <td>90</td>\n",
              "            <td>2</td>\n",
              "            <td>25-44</td>\n",
              "            <td>M</td>\n",
              "            <td>BLACK</td>\n",
              "            <td>993850</td>\n",
              "            <td>195755</td>\n",
              "            <td>40.703982028</td>\n",
              "            <td>-73.96537743</td>\n",
              "        </tr>\n",
              "        <tr>\n",
              "            <td>4</td>\n",
              "            <td>184616006</td>\n",
              "            <td>06/30/2018 12:00:00 AM</td>\n",
              "            <td>849.0</td>\n",
              "            <td>NY STATE LAWS,UNCLASSIFIED VIOLATION</td>\n",
              "            <td>677.0</td>\n",
              "            <td>OTHER STATE LAWS</td>\n",
              "            <td>LOC000000V</td>\n",
              "            <td>V</td>\n",
              "            <td>K </td>\n",
              "            <td>67</td>\n",
              "            <td>0</td>\n",
              "            <td>25-44</td>\n",
              "            <td>M</td>\n",
              "            <td>WHITE HISPANIC</td>\n",
              "            <td>1003396</td>\n",
              "            <td>178812</td>\n",
              "            <td>40.657461842</td>\n",
              "            <td>-73.930996321</td>\n",
              "        </tr>\n",
              "    </tbody>\n",
              "</table>"
            ]
          },
          "metadata": {},
          "execution_count": 21
        }
      ]
    },
    {
      "cell_type": "code",
      "source": [
        "# Correct table name in queries to match the table name used in to_sql\n",
        "# 1. Determine the total number of arrests\n",
        "total_arrests_query = \"SELECT COUNT(*) FROM law_enforcement;\"\n",
        "total_arrests = pd.read_sql_query(total_arrests_query, conn)\n",
        "print(f\"Total arrests: {total_arrests.iloc[0,0]}\")"
      ],
      "metadata": {
        "colab": {
          "base_uri": "https://localhost:8080/"
        },
        "id": "0770_FXgAo0c",
        "outputId": "8301f0a6-2110-41f6-884a-f6b566dba4d2"
      },
      "execution_count": 22,
      "outputs": [
        {
          "output_type": "stream",
          "name": "stdout",
          "text": [
            "Total arrests: 131043\n"
          ]
        }
      ]
    },
    {
      "cell_type": "code",
      "source": [
        "# 2. Analyze the most frequent type of crime leading to arrests\n",
        "most_frequent_crime_query = \"\"\"\n",
        "SELECT pd_desc, COUNT(*) as count\n",
        "FROM law_enforcement\n",
        "GROUP BY pd_desc\n",
        "ORDER BY count DESC\n",
        "LIMIT 1;\n",
        "\"\"\"\n",
        "most_frequent_crime = pd.read_sql_query(most_frequent_crime_query, conn)\n",
        "print(\"Most frequent type of crime:\", most_frequent_crime)"
      ],
      "metadata": {
        "colab": {
          "base_uri": "https://localhost:8080/"
        },
        "id": "Zbs4_gp8KAMq",
        "outputId": "af3f54e3-abd6-4d07-b1f9-d34a5a941d82"
      },
      "execution_count": 23,
      "outputs": [
        {
          "output_type": "stream",
          "name": "stdout",
          "text": [
            "Most frequent type of crime:      PD_DESC  count\n",
            "0  ASSAULT 3  13618\n"
          ]
        }
      ]
    },
    {
      "cell_type": "code",
      "source": [
        "# 3. Identify the borough with the highest number of arrests in a specific period\n",
        "most_arrests_borough_query = \"\"\"\n",
        "SELECT arrest_boro, COUNT(*) as count\n",
        "FROM law_enforcement\n",
        "WHERE arrest_date BETWEEN '2021-01-01' AND '2021-12-31'\n",
        "GROUP BY arrest_boro\n",
        "ORDER BY count DESC\n",
        "LIMIT 1;\n",
        "\"\"\"\n",
        "most_arrests_borough = pd.read_sql_query(most_arrests_borough_query, conn)\n",
        "print(\"Borough with the highest number of arrests in 2021:\", most_arrests_borough)"
      ],
      "metadata": {
        "colab": {
          "base_uri": "https://localhost:8080/"
        },
        "id": "LYDNfInAKCmy",
        "outputId": "a10031a2-9ceb-4b4c-d998-29952a2ca5e5"
      },
      "execution_count": 24,
      "outputs": [
        {
          "output_type": "stream",
          "name": "stdout",
          "text": [
            "Borough with the highest number of arrests in 2021: Empty DataFrame\n",
            "Columns: [ARREST_BORO, count]\n",
            "Index: []\n"
          ]
        }
      ]
    },
    {
      "cell_type": "code",
      "source": [
        "# 4. Count arrests of young individuals in a specific borough\n",
        "youth_arrests_query = \"\"\"\n",
        "SELECT COUNT(*)\n",
        "FROM law_enforcement\n",
        "WHERE age_group = 'Y' AND arrest_boro = 'M';\n",
        "\"\"\"\n",
        "youth_arrests = pd.read_sql_query(youth_arrests_query, conn)\n",
        "print(\"Number of young individuals arrested in borough M:\", youth_arrests.iloc[0,0])"
      ],
      "metadata": {
        "colab": {
          "base_uri": "https://localhost:8080/"
        },
        "id": "TIrrqvEKKEy9",
        "outputId": "de2321c5-a254-4471-e41d-b53a49a17f4b"
      },
      "execution_count": 25,
      "outputs": [
        {
          "output_type": "stream",
          "name": "stdout",
          "text": [
            "Number of young individuals arrested in borough M: 0\n"
          ]
        }
      ]
    }
  ]
}