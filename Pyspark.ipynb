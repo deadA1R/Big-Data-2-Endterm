{
  "nbformat": 4,
  "nbformat_minor": 0,
  "metadata": {
    "colab": {
      "provenance": []
    },
    "kernelspec": {
      "name": "python3",
      "display_name": "Python 3"
    },
    "language_info": {
      "name": "python"
    }
  },
  "cells": [
    {
      "cell_type": "code",
      "execution_count": 3,
      "metadata": {
        "id": "eM3pVN7dKJPy"
      },
      "outputs": [],
      "source": [
        "from pyspark import SparkConf, SparkContext\n",
        "\n",
        "conf = SparkConf().setMaster(\"local\").setAppName(\"ArrestAnalysis\")\n",
        "sc = SparkContext.getOrCreate(conf=conf)"
      ]
    },
    {
      "cell_type": "code",
      "source": [
        "# It is assumed that the data has already been uploaded in CSV format and is available in HDFS or the local file system\n",
        "data_path = \"/content/nypd-arrest-data-year-to-date-1.csv\""
      ],
      "metadata": {
        "id": "Bi8cUByrK8kC"
      },
      "execution_count": 4,
      "outputs": []
    },
    {
      "cell_type": "code",
      "source": [
        "# Reading data in RDD\n",
        "rdd = sc.textFile(data_path)\n",
        "\n",
        "# Skip the title\n",
        "header = rdd.first()\n",
        "rdd = rdd.filter(lambda line: line != header)"
      ],
      "metadata": {
        "id": "-x2-clRyL5kx"
      },
      "execution_count": 8,
      "outputs": []
    },
    {
      "cell_type": "code",
      "source": [
        "def parseLine(line):\n",
        "    fields = line.split(',')\n",
        "    try:\n",
        "        age_group = fields[11] # We assume that the age group is in the 12th column\n",
        "        arrest_boro = fields[8] # We assume that the area of arrest is in the 9th column\n",
        "        offense_type = fields[5] # We assume that the type of crime is in the 6th column\n",
        "        return (offense_type, (arrest_boro, age_group, 1))\n",
        "    except:\n",
        "        return ()"
      ],
      "metadata": {
        "id": "rf3U5FmAMC2K"
      },
      "execution_count": 6,
      "outputs": []
    },
    {
      "cell_type": "code",
      "source": [
        "# Data processing\n",
        "parsedData = rdd.map(parseLine).filter(lambda x: x)\n",
        "\n",
        "# Aggregation of data by type of crime with counting of cases by districts and age groups\n",
        "offenseSummary = parsedData.map(lambda x: (x[0], x[1][2])).reduceByKey(lambda x, y: x + y)"
      ],
      "metadata": {
        "id": "mmrpA_IAMGcR"
      },
      "execution_count": 7,
      "outputs": []
    },
    {
      "cell_type": "code",
      "source": [
        "# Conclusion of the top 5 most frequent crimes\n",
        "topOffenses = offenseSummary.takeOrdered(5, key=lambda x: -x[1])\n",
        "print(\"Топ-5 преступлений по количеству арестов:\")\n",
        "for offense in topOffenses:\n",
        "    print(offense)"
      ],
      "metadata": {
        "colab": {
          "base_uri": "https://localhost:8080/"
        },
        "id": "RpYERtdHMJSD",
        "outputId": "668c5f5f-f55d-4007-f670-c1750010e9ea"
      },
      "execution_count": 9,
      "outputs": [
        {
          "output_type": "stream",
          "name": "stdout",
          "text": [
            "Топ-5 преступлений по количеству арестов:\n",
            "('UNCLASSIFIED\"', 22789)\n",
            "('ASSAULT 3 & RELATED OFFENSES', 15289)\n",
            "('235', 13494)\n",
            "('348', 10683)\n",
            "('117', 5736)\n"
          ]
        }
      ]
    }
  ]
}